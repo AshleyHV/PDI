{
  "nbformat": 4,
  "nbformat_minor": 0,
  "metadata": {
    "colab": {
      "name": "Clase02.ipynb",
      "provenance": [],
      "authorship_tag": "ABX9TyO3n5aS09Ah/2cpk7ICQHMb",
      "include_colab_link": true
    },
    "kernelspec": {
      "name": "python3",
      "display_name": "Python 3"
    }
  },
  "cells": [
    {
      "cell_type": "markdown",
      "metadata": {
        "id": "view-in-github",
        "colab_type": "text"
      },
      "source": [
        "<a href=\"https://colab.research.google.com/github/AshleyHV/PDI/blob/master/Clase02.ipynb\" target=\"_parent\"><img src=\"https://colab.research.google.com/assets/colab-badge.svg\" alt=\"Open In Colab\"/></a>"
      ]
    },
    {
      "cell_type": "code",
      "metadata": {
        "id": "ofUTJC3Zsull",
        "colab_type": "code",
        "colab": {
          "base_uri": "https://localhost:8080/",
          "height": 333
        },
        "outputId": "336a8cd1-878e-4a38-82e5-bc34d8a756fa"
      },
      "source": [
        "import cv2\n",
        "import tensorflow\n",
        "import pytorch\n"
      ],
      "execution_count": 4,
      "outputs": [
        {
          "output_type": "error",
          "ename": "ModuleNotFoundError",
          "evalue": "ignored",
          "traceback": [
            "\u001b[0;31m---------------------------------------------------------------------------\u001b[0m",
            "\u001b[0;31mModuleNotFoundError\u001b[0m                       Traceback (most recent call last)",
            "\u001b[0;32m<ipython-input-4-3d0735a10745>\u001b[0m in \u001b[0;36m<module>\u001b[0;34m()\u001b[0m\n\u001b[1;32m      1\u001b[0m \u001b[0;32mimport\u001b[0m \u001b[0mcv2\u001b[0m\u001b[0;34m\u001b[0m\u001b[0;34m\u001b[0m\u001b[0m\n\u001b[1;32m      2\u001b[0m \u001b[0;32mimport\u001b[0m \u001b[0mtensorflow\u001b[0m\u001b[0;34m\u001b[0m\u001b[0;34m\u001b[0m\u001b[0m\n\u001b[0;32m----> 3\u001b[0;31m \u001b[0;32mimport\u001b[0m \u001b[0mpytorch\u001b[0m\u001b[0;34m\u001b[0m\u001b[0;34m\u001b[0m\u001b[0m\n\u001b[0m",
            "\u001b[0;31mModuleNotFoundError\u001b[0m: No module named 'pytorch'",
            "",
            "\u001b[0;31m---------------------------------------------------------------------------\u001b[0;32m\nNOTE: If your import is failing due to a missing package, you can\nmanually install dependencies using either !pip or !apt.\n\nTo view examples of installing some common dependencies, click the\n\"Open Examples\" button below.\n\u001b[0;31m---------------------------------------------------------------------------\u001b[0m\n"
          ]
        }
      ]
    },
    {
      "cell_type": "code",
      "metadata": {
        "id": "9fYjac8Dz5y0",
        "colab_type": "code",
        "colab": {
          "base_uri": "https://localhost:8080/",
          "height": 34
        },
        "outputId": "d101b1c7-9620-4aec-d53d-3dab3f7e8524"
      },
      "source": [
        "x = \"Hola\"\n",
        "print(\"Mundo dice=\", x)"
      ],
      "execution_count": 8,
      "outputs": [
        {
          "output_type": "stream",
          "text": [
            "Mundo dice= Hola\n"
          ],
          "name": "stdout"
        }
      ]
    },
    {
      "cell_type": "markdown",
      "metadata": {
        "id": "-UfbubPYz7Ok",
        "colab_type": "text"
      },
      "source": [
        "**Vectores y Listas**\n"
      ]
    },
    {
      "cell_type": "code",
      "metadata": {
        "id": "3P90-aZDw5bv",
        "colab_type": "code",
        "colab": {
          "base_uri": "https://localhost:8080/",
          "height": 51
        },
        "outputId": "2f938f9c-76f2-4d2a-dd55-720b5e2e0b84"
      },
      "source": [
        "y=[1, 2, 3 , 4, 5]\n",
        "print(y[0])\n",
        "\n",
        "y[0] = 10\n",
        "print(y)\n"
      ],
      "execution_count": 7,
      "outputs": [
        {
          "output_type": "stream",
          "text": [
            "1\n",
            "[10, 2, 3, 4, 5]\n"
          ],
          "name": "stdout"
        }
      ]
    },
    {
      "cell_type": "markdown",
      "metadata": {
        "id": "SADc95Ow0uT1",
        "colab_type": "text"
      },
      "source": [
        "Agregar mas datos:"
      ]
    },
    {
      "cell_type": "code",
      "metadata": {
        "id": "HdudpqXE0zUE",
        "colab_type": "code",
        "colab": {
          "base_uri": "https://localhost:8080/",
          "height": 34
        },
        "outputId": "4cfde901-bf2f-41ae-9da3-d59e25488b2e"
      },
      "source": [
        "y.append(-5)\n",
        "print(y)"
      ],
      "execution_count": 9,
      "outputs": [
        {
          "output_type": "stream",
          "text": [
            "[10, 2, 3, 4, 5, -5]\n"
          ],
          "name": "stdout"
        }
      ]
    },
    {
      "cell_type": "markdown",
      "metadata": {
        "id": "EhgKTHyV08x9",
        "colab_type": "text"
      },
      "source": [
        "Borrar (indice) y Remover(valor) datos:"
      ]
    },
    {
      "cell_type": "code",
      "metadata": {
        "id": "4noSxOQt1Atd",
        "colab_type": "code",
        "colab": {
          "base_uri": "https://localhost:8080/",
          "height": 51
        },
        "outputId": "b9c69aa3-1416-4cac-8861-81ecdf717537"
      },
      "source": [
        "del y[0]\n",
        "print(y)\n",
        "\n",
        "y.remove(4)\n",
        "print(y)"
      ],
      "execution_count": 11,
      "outputs": [
        {
          "output_type": "stream",
          "text": [
            "[3, 4, 5, -5]\n",
            "[3, 5, -5]\n"
          ],
          "name": "stdout"
        }
      ]
    },
    {
      "cell_type": "markdown",
      "metadata": {
        "id": "BW5nOD9z2Un2",
        "colab_type": "text"
      },
      "source": [
        "**Metodos**"
      ]
    },
    {
      "cell_type": "code",
      "metadata": {
        "id": "BlvvUQoH1pkj",
        "colab_type": "code",
        "colab": {
          "base_uri": "https://localhost:8080/",
          "height": 34
        },
        "outputId": "c4a9be0b-8009-47b0-b42a-907930fe297f"
      },
      "source": [
        "def suma(a,b):\n",
        "  s=a+b\n",
        "  return s\n",
        "\n",
        "\n",
        "suma(5,7)"
      ],
      "execution_count": 13,
      "outputs": [
        {
          "output_type": "execute_result",
          "data": {
            "text/plain": [
              "12"
            ]
          },
          "metadata": {
            "tags": []
          },
          "execution_count": 13
        }
      ]
    },
    {
      "cell_type": "code",
      "metadata": {
        "id": "x1QeAh973zfT",
        "colab_type": "code",
        "colab": {
          "base_uri": "https://localhost:8080/",
          "height": 34
        },
        "outputId": "e00f1d7a-0655-48f2-ffcd-9ac59cf50a68"
      },
      "source": [
        "def perimetroCuadrado(L):\n",
        "  pc=L*4\n",
        "  return pc\n",
        "\n",
        "perimetroCuadrado(5)"
      ],
      "execution_count": 14,
      "outputs": [
        {
          "output_type": "execute_result",
          "data": {
            "text/plain": [
              "20"
            ]
          },
          "metadata": {
            "tags": []
          },
          "execution_count": 14
        }
      ]
    },
    {
      "cell_type": "code",
      "metadata": {
        "id": "EbKHGQcd4g3D",
        "colab_type": "code",
        "colab": {
          "base_uri": "https://localhost:8080/",
          "height": 34
        },
        "outputId": "952ccca7-7bc7-4078-e205-d03b82a57e27"
      },
      "source": [
        "def areaCuadrado(L):\n",
        "  ac= L * L\n",
        "  return ac\n",
        "\n",
        "areaCuadrado(12)\n"
      ],
      "execution_count": 17,
      "outputs": [
        {
          "output_type": "execute_result",
          "data": {
            "text/plain": [
              "144"
            ]
          },
          "metadata": {
            "tags": []
          },
          "execution_count": 17
        }
      ]
    },
    {
      "cell_type": "code",
      "metadata": {
        "id": "j9EXlm-Q5nPZ",
        "colab_type": "code",
        "colab": {
          "base_uri": "https://localhost:8080/",
          "height": 34
        },
        "outputId": "0c5a1650-aa08-46f0-b7ea-827e4964f00e"
      },
      "source": [
        "def cuadrado(L):\n",
        "  return perimetroCuadrado(L), areaCuadrado(L)\n",
        "  \n",
        "cuadrado(4)"
      ],
      "execution_count": 18,
      "outputs": [
        {
          "output_type": "execute_result",
          "data": {
            "text/plain": [
              "(16, 16)"
            ]
          },
          "metadata": {
            "tags": []
          },
          "execution_count": 18
        }
      ]
    },
    {
      "cell_type": "code",
      "metadata": {
        "id": "h1DC2qEq-7hL",
        "colab_type": "code",
        "colab": {
          "base_uri": "https://localhost:8080/",
          "height": 34
        },
        "outputId": "11fecf60-3925-4f29-899d-5dd20a434f08"
      },
      "source": [
        "def perimetroRectangulo(L1,L2):\n",
        "  pr= (2*L1) + (2*L2)\n",
        "  return pr\n",
        "\n",
        "perimetroRectangulo(5,3)"
      ],
      "execution_count": 22,
      "outputs": [
        {
          "output_type": "execute_result",
          "data": {
            "text/plain": [
              "16"
            ]
          },
          "metadata": {
            "tags": []
          },
          "execution_count": 22
        }
      ]
    },
    {
      "cell_type": "code",
      "metadata": {
        "id": "jRwKbB0t_wMz",
        "colab_type": "code",
        "colab": {
          "base_uri": "https://localhost:8080/",
          "height": 34
        },
        "outputId": "a8f88314-0429-4567-b795-91f64e9ea932"
      },
      "source": [
        "def areaRectangulo(b,h):\n",
        "  ar= b*h\n",
        "  return ar\n",
        "\n",
        "areaRectangulo(4,8)\n"
      ],
      "execution_count": 20,
      "outputs": [
        {
          "output_type": "execute_result",
          "data": {
            "text/plain": [
              "32"
            ]
          },
          "metadata": {
            "tags": []
          },
          "execution_count": 20
        }
      ]
    },
    {
      "cell_type": "code",
      "metadata": {
        "id": "82llIuwiAmXc",
        "colab_type": "code",
        "colab": {}
      },
      "source": [
        ""
      ],
      "execution_count": 0,
      "outputs": []
    }
  ]
}